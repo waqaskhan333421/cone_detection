{
  "cells": [
    {
      "cell_type": "code",
      "execution_count": 1,
      "metadata": {
        "colab": {
          "base_uri": "https://localhost:8080/"
        },
        "id": "fR3oYHHeV8cr",
        "outputId": "c684c1b9-337f-4eed-9a84-e3abdb9b9209"
      },
      "outputs": [
        {
          "name": "stdout",
          "output_type": "stream",
          "text": [
            "Requirement already satisfied: roboflow in c:\\users\\ayaz8\\anaconda3\\envs\\gr\\lib\\site-packages (1.1.66)\n",
            "Requirement already satisfied: certifi in c:\\users\\ayaz8\\anaconda3\\envs\\gr\\lib\\site-packages (from roboflow) (2025.1.31)\n",
            "Requirement already satisfied: idna==3.7 in c:\\users\\ayaz8\\anaconda3\\envs\\gr\\lib\\site-packages (from roboflow) (3.7)\n",
            "Requirement already satisfied: cycler in c:\\users\\ayaz8\\anaconda3\\envs\\gr\\lib\\site-packages (from roboflow) (0.11.0)\n",
            "Requirement already satisfied: kiwisolver>=1.3.1 in c:\\users\\ayaz8\\anaconda3\\envs\\gr\\lib\\site-packages (from roboflow) (1.4.8)\n",
            "Requirement already satisfied: matplotlib in c:\\users\\ayaz8\\anaconda3\\envs\\gr\\lib\\site-packages (from roboflow) (3.10.0)\n",
            "Requirement already satisfied: numpy>=1.18.5 in c:\\users\\ayaz8\\anaconda3\\envs\\gr\\lib\\site-packages (from roboflow) (2.1.3)\n",
            "Requirement already satisfied: opencv-python-headless==4.10.0.84 in c:\\users\\ayaz8\\anaconda3\\envs\\gr\\lib\\site-packages (from roboflow) (4.10.0.84)\n",
            "Requirement already satisfied: Pillow>=7.1.2 in c:\\users\\ayaz8\\anaconda3\\envs\\gr\\lib\\site-packages (from roboflow) (11.1.0)\n",
            "Requirement already satisfied: pillow-heif>=0.18.0 in c:\\users\\ayaz8\\anaconda3\\envs\\gr\\lib\\site-packages (from roboflow) (0.22.0)\n",
            "Requirement already satisfied: python-dateutil in c:\\users\\ayaz8\\anaconda3\\envs\\gr\\lib\\site-packages (from roboflow) (2.9.0.post0)\n",
            "Requirement already satisfied: python-dotenv in c:\\users\\ayaz8\\anaconda3\\envs\\gr\\lib\\site-packages (from roboflow) (1.1.0)\n",
            "Requirement already satisfied: requests in c:\\users\\ayaz8\\anaconda3\\envs\\gr\\lib\\site-packages (from roboflow) (2.32.3)\n",
            "Requirement already satisfied: six in c:\\users\\ayaz8\\anaconda3\\envs\\gr\\lib\\site-packages (from roboflow) (1.16.0)\n",
            "Requirement already satisfied: urllib3>=1.26.6 in c:\\users\\ayaz8\\anaconda3\\envs\\gr\\lib\\site-packages (from roboflow) (2.3.0)\n",
            "Requirement already satisfied: tqdm>=4.41.0 in c:\\users\\ayaz8\\anaconda3\\envs\\gr\\lib\\site-packages (from roboflow) (4.67.1)\n",
            "Requirement already satisfied: PyYAML>=5.3.1 in c:\\users\\ayaz8\\anaconda3\\envs\\gr\\lib\\site-packages (from roboflow) (6.0.2)\n",
            "Requirement already satisfied: requests-toolbelt in c:\\users\\ayaz8\\anaconda3\\envs\\gr\\lib\\site-packages (from roboflow) (1.0.0)\n",
            "Requirement already satisfied: filetype in c:\\users\\ayaz8\\anaconda3\\envs\\gr\\lib\\site-packages (from roboflow) (1.2.0)\n",
            "Requirement already satisfied: colorama in c:\\users\\ayaz8\\anaconda3\\envs\\gr\\lib\\site-packages (from tqdm>=4.41.0->roboflow) (0.4.6)\n",
            "Requirement already satisfied: contourpy>=1.0.1 in c:\\users\\ayaz8\\anaconda3\\envs\\gr\\lib\\site-packages (from matplotlib->roboflow) (1.3.1)\n",
            "Requirement already satisfied: fonttools>=4.22.0 in c:\\users\\ayaz8\\anaconda3\\envs\\gr\\lib\\site-packages (from matplotlib->roboflow) (4.55.3)\n",
            "Requirement already satisfied: packaging>=20.0 in c:\\users\\ayaz8\\anaconda3\\envs\\gr\\lib\\site-packages (from matplotlib->roboflow) (24.2)\n",
            "Requirement already satisfied: pyparsing>=2.3.1 in c:\\users\\ayaz8\\anaconda3\\envs\\gr\\lib\\site-packages (from matplotlib->roboflow) (3.2.0)\n",
            "Requirement already satisfied: charset-normalizer<4,>=2 in c:\\users\\ayaz8\\anaconda3\\envs\\gr\\lib\\site-packages (from requests->roboflow) (3.3.2)\n",
            "loading Roboflow workspace...\n",
            "loading Roboflow project...\n"
          ]
        },
        {
          "name": "stderr",
          "output_type": "stream",
          "text": [
            "Downloading Dataset Version Zip in shuttle-run-1 to yolov8:: 100%|██████████| 189165/189165 [00:10<00:00, 18779.02it/s]"
          ]
        },
        {
          "name": "stdout",
          "output_type": "stream",
          "text": [
            "\n"
          ]
        },
        {
          "name": "stderr",
          "output_type": "stream",
          "text": [
            "\n",
            "Extracting Dataset Version Zip to shuttle-run-1 in yolov8:: 100%|██████████| 9422/9422 [00:05<00:00, 1610.64it/s]\n"
          ]
        }
      ],
      "source": [
        "!pip install roboflow\n",
        "\n",
        "from roboflow import Roboflow\n",
        "rf = Roboflow(api_key=\"nFS8pQdlOFbEIBAjqQvl\")\n",
        "project = rf.workspace(\"dp-14zdq\").project(\"shuttle-run\")\n",
        "version = project.version(1)\n",
        "dataset = version.download(\"yolov8\")\n",
        "                "
      ]
    },
    {
      "cell_type": "code",
      "execution_count": 4,
      "metadata": {
        "colab": {
          "base_uri": "https://localhost:8080/"
        },
        "id": "_tlHZSLpaBCK",
        "outputId": "8173ad67-136c-49d0-8e2c-e0c552c120a6"
      },
      "outputs": [
        {
          "name": "stdout",
          "output_type": "stream",
          "text": [
            "Collecting ultralytics\n",
            "  Using cached ultralytics-8.3.155-py3-none-any.whl.metadata (37 kB)\n",
            "Requirement already satisfied: numpy>=1.23.0 in c:\\users\\ayaz8\\anaconda3\\envs\\gr\\lib\\site-packages (from ultralytics) (2.1.3)\n",
            "Requirement already satisfied: matplotlib>=3.3.0 in c:\\users\\ayaz8\\anaconda3\\envs\\gr\\lib\\site-packages (from ultralytics) (3.10.0)\n",
            "Collecting opencv-python>=4.6.0 (from ultralytics)\n",
            "  Using cached opencv_python-4.11.0.86-cp37-abi3-win_amd64.whl.metadata (20 kB)\n",
            "Requirement already satisfied: pillow>=7.1.2 in c:\\users\\ayaz8\\anaconda3\\envs\\gr\\lib\\site-packages (from ultralytics) (11.1.0)\n",
            "Requirement already satisfied: pyyaml>=5.3.1 in c:\\users\\ayaz8\\anaconda3\\envs\\gr\\lib\\site-packages (from ultralytics) (6.0.2)\n",
            "Requirement already satisfied: requests>=2.23.0 in c:\\users\\ayaz8\\anaconda3\\envs\\gr\\lib\\site-packages (from ultralytics) (2.32.3)\n",
            "Requirement already satisfied: scipy>=1.4.1 in c:\\users\\ayaz8\\anaconda3\\envs\\gr\\lib\\site-packages (from ultralytics) (1.15.1)\n",
            "Requirement already satisfied: torch>=1.8.0 in c:\\users\\ayaz8\\anaconda3\\envs\\gr\\lib\\site-packages (from ultralytics) (2.6.0+cu126)\n",
            "Requirement already satisfied: torchvision>=0.9.0 in c:\\users\\ayaz8\\anaconda3\\envs\\gr\\lib\\site-packages (from ultralytics) (0.21.0+cu126)\n",
            "Requirement already satisfied: tqdm>=4.64.0 in c:\\users\\ayaz8\\anaconda3\\envs\\gr\\lib\\site-packages (from ultralytics) (4.67.1)\n",
            "Requirement already satisfied: psutil in c:\\users\\ayaz8\\anaconda3\\envs\\gr\\lib\\site-packages (from ultralytics) (5.9.0)\n",
            "Requirement already satisfied: py-cpuinfo in c:\\users\\ayaz8\\anaconda3\\envs\\gr\\lib\\site-packages (from ultralytics) (9.0.0)\n",
            "Requirement already satisfied: pandas>=1.1.4 in c:\\users\\ayaz8\\anaconda3\\envs\\gr\\lib\\site-packages (from ultralytics) (2.2.3)\n",
            "Collecting ultralytics-thop>=2.0.0 (from ultralytics)\n",
            "  Using cached ultralytics_thop-2.0.14-py3-none-any.whl.metadata (9.4 kB)\n",
            "Requirement already satisfied: contourpy>=1.0.1 in c:\\users\\ayaz8\\anaconda3\\envs\\gr\\lib\\site-packages (from matplotlib>=3.3.0->ultralytics) (1.3.1)\n",
            "Requirement already satisfied: cycler>=0.10 in c:\\users\\ayaz8\\anaconda3\\envs\\gr\\lib\\site-packages (from matplotlib>=3.3.0->ultralytics) (0.11.0)\n",
            "Requirement already satisfied: fonttools>=4.22.0 in c:\\users\\ayaz8\\anaconda3\\envs\\gr\\lib\\site-packages (from matplotlib>=3.3.0->ultralytics) (4.55.3)\n",
            "Requirement already satisfied: kiwisolver>=1.3.1 in c:\\users\\ayaz8\\anaconda3\\envs\\gr\\lib\\site-packages (from matplotlib>=3.3.0->ultralytics) (1.4.8)\n",
            "Requirement already satisfied: packaging>=20.0 in c:\\users\\ayaz8\\anaconda3\\envs\\gr\\lib\\site-packages (from matplotlib>=3.3.0->ultralytics) (24.2)\n",
            "Requirement already satisfied: pyparsing>=2.3.1 in c:\\users\\ayaz8\\anaconda3\\envs\\gr\\lib\\site-packages (from matplotlib>=3.3.0->ultralytics) (3.2.0)\n",
            "Requirement already satisfied: python-dateutil>=2.7 in c:\\users\\ayaz8\\anaconda3\\envs\\gr\\lib\\site-packages (from matplotlib>=3.3.0->ultralytics) (2.9.0.post0)\n",
            "Requirement already satisfied: pytz>=2020.1 in c:\\users\\ayaz8\\anaconda3\\envs\\gr\\lib\\site-packages (from pandas>=1.1.4->ultralytics) (2024.1)\n",
            "Requirement already satisfied: tzdata>=2022.7 in c:\\users\\ayaz8\\anaconda3\\envs\\gr\\lib\\site-packages (from pandas>=1.1.4->ultralytics) (2023.3)\n",
            "Requirement already satisfied: charset-normalizer<4,>=2 in c:\\users\\ayaz8\\anaconda3\\envs\\gr\\lib\\site-packages (from requests>=2.23.0->ultralytics) (3.3.2)\n",
            "Requirement already satisfied: idna<4,>=2.5 in c:\\users\\ayaz8\\anaconda3\\envs\\gr\\lib\\site-packages (from requests>=2.23.0->ultralytics) (3.7)\n",
            "Requirement already satisfied: urllib3<3,>=1.21.1 in c:\\users\\ayaz8\\anaconda3\\envs\\gr\\lib\\site-packages (from requests>=2.23.0->ultralytics) (2.3.0)\n",
            "Requirement already satisfied: certifi>=2017.4.17 in c:\\users\\ayaz8\\anaconda3\\envs\\gr\\lib\\site-packages (from requests>=2.23.0->ultralytics) (2025.1.31)\n",
            "Requirement already satisfied: filelock in c:\\users\\ayaz8\\anaconda3\\envs\\gr\\lib\\site-packages (from torch>=1.8.0->ultralytics) (3.13.1)\n",
            "Requirement already satisfied: typing-extensions>=4.10.0 in c:\\users\\ayaz8\\anaconda3\\envs\\gr\\lib\\site-packages (from torch>=1.8.0->ultralytics) (4.12.2)\n",
            "Requirement already satisfied: networkx in c:\\users\\ayaz8\\anaconda3\\envs\\gr\\lib\\site-packages (from torch>=1.8.0->ultralytics) (3.4.2)\n",
            "Requirement already satisfied: jinja2 in c:\\users\\ayaz8\\anaconda3\\envs\\gr\\lib\\site-packages (from torch>=1.8.0->ultralytics) (3.1.5)\n",
            "Requirement already satisfied: fsspec in c:\\users\\ayaz8\\anaconda3\\envs\\gr\\lib\\site-packages (from torch>=1.8.0->ultralytics) (2024.12.0)\n",
            "Requirement already satisfied: setuptools in c:\\users\\ayaz8\\anaconda3\\envs\\gr\\lib\\site-packages (from torch>=1.8.0->ultralytics) (72.1.0)\n",
            "Requirement already satisfied: sympy==1.13.1 in c:\\users\\ayaz8\\anaconda3\\envs\\gr\\lib\\site-packages (from torch>=1.8.0->ultralytics) (1.13.1)\n",
            "Requirement already satisfied: mpmath<1.4,>=1.1.0 in c:\\users\\ayaz8\\anaconda3\\envs\\gr\\lib\\site-packages (from sympy==1.13.1->torch>=1.8.0->ultralytics) (1.3.0)\n",
            "Requirement already satisfied: colorama in c:\\users\\ayaz8\\anaconda3\\envs\\gr\\lib\\site-packages (from tqdm>=4.64.0->ultralytics) (0.4.6)\n",
            "Requirement already satisfied: six>=1.5 in c:\\users\\ayaz8\\anaconda3\\envs\\gr\\lib\\site-packages (from python-dateutil>=2.7->matplotlib>=3.3.0->ultralytics) (1.16.0)\n",
            "Requirement already satisfied: MarkupSafe>=2.0 in c:\\users\\ayaz8\\anaconda3\\envs\\gr\\lib\\site-packages (from jinja2->torch>=1.8.0->ultralytics) (3.0.2)\n",
            "Using cached ultralytics-8.3.155-py3-none-any.whl (1.0 MB)\n",
            "Using cached opencv_python-4.11.0.86-cp37-abi3-win_amd64.whl (39.5 MB)\n",
            "Using cached ultralytics_thop-2.0.14-py3-none-any.whl (26 kB)\n",
            "Installing collected packages: opencv-python, ultralytics-thop, ultralytics\n",
            "Successfully installed opencv-python-4.11.0.86 ultralytics-8.3.155 ultralytics-thop-2.0.14\n"
          ]
        }
      ],
      "source": [
        "!pip install ultralytics\n"
      ]
    },
    {
      "cell_type": "code",
      "execution_count": 5,
      "metadata": {
        "colab": {
          "base_uri": "https://localhost:8080/"
        },
        "id": "bOulk8zgaGhK",
        "outputId": "e039b81b-876f-4039-a233-71dcd85e06f8"
      },
      "outputs": [],
      "source": [
        "from ultralytics import YOLO\n"
      ]
    },
    {
      "cell_type": "code",
      "execution_count": 6,
      "metadata": {
        "colab": {
          "base_uri": "https://localhost:8080/"
        },
        "id": "bn1wi0r0aLOZ",
        "outputId": "6d04087d-f31b-4ce7-84d8-a52b52b7f273"
      },
      "outputs": [],
      "source": [
        "model = YOLO(\"yolov8s.pt\")  # Load a pre-trained YOLOv8 model (nano version)\n"
      ]
    },
    {
      "cell_type": "code",
      "execution_count": 8,
      "metadata": {
        "colab": {
          "base_uri": "https://localhost:8080/"
        },
        "id": "4r8zoHK0aXj6",
        "outputId": "3e3b1d6c-6d70-4f00-c427-1919ad9d628b"
      },
      "outputs": [
        {
          "name": "stdout",
          "output_type": "stream",
          "text": [
            "Ultralytics 8.3.155  Python-3.12.9 torch-2.6.0+cu126 CUDA:0 (NVIDIA GeForce RTX 4090, 24564MiB)\n",
            "\u001b[34m\u001b[1mengine\\trainer: \u001b[0magnostic_nms=False, amp=True, augment=False, auto_augment=randaugment, batch=16, bgr=0.0, box=7.5, cache=False, cfg=None, classes=None, close_mosaic=10, cls=0.5, conf=None, copy_paste=0.0, copy_paste_mode=flip, cos_lr=False, cutmix=0.0, data=D:\\Ayaz\\projects\\New folder (2)\\Cone Detector Computer Vision Project\\pangjae2-2\\data.yaml, degrees=0.0, deterministic=True, device=None, dfl=1.5, dnn=False, dropout=0.0, dynamic=False, embed=None, epochs=50, erasing=0.4, exist_ok=False, fliplr=0.5, flipud=0.0, format=torchscript, fraction=1.0, freeze=None, half=False, hsv_h=0.015, hsv_s=0.7, hsv_v=0.4, imgsz=640, int8=False, iou=0.7, keras=False, kobj=1.0, line_width=None, lr0=0.01, lrf=0.01, mask_ratio=4, max_det=300, mixup=0.0, mode=train, model=yolov8s.pt, momentum=0.937, mosaic=1.0, multi_scale=False, name=train4, nbs=64, nms=False, opset=None, optimize=False, optimizer=auto, overlap_mask=True, patience=100, perspective=0.0, plots=True, pose=12.0, pretrained=True, profile=False, project=None, rect=False, resume=False, retina_masks=False, save=True, save_conf=False, save_crop=False, save_dir=runs\\detect\\train4, save_frames=False, save_json=False, save_period=-1, save_txt=False, scale=0.5, seed=0, shear=0.0, show=False, show_boxes=True, show_conf=True, show_labels=True, simplify=True, single_cls=False, source=None, split=val, stream_buffer=False, task=detect, time=None, tracker=botsort.yaml, translate=0.1, val=True, verbose=True, vid_stride=1, visualize=False, warmup_bias_lr=0.1, warmup_epochs=3.0, warmup_momentum=0.8, weight_decay=0.0005, workers=8, workspace=None\n",
            "Overriding model.yaml nc=80 with nc=1\n",
            "\n",
            "                   from  n    params  module                                       arguments                     \n",
            "  0                  -1  1       928  ultralytics.nn.modules.conv.Conv             [3, 32, 3, 2]                 \n",
            "  1                  -1  1     18560  ultralytics.nn.modules.conv.Conv             [32, 64, 3, 2]                \n",
            "  2                  -1  1     29056  ultralytics.nn.modules.block.C2f             [64, 64, 1, True]             \n",
            "  3                  -1  1     73984  ultralytics.nn.modules.conv.Conv             [64, 128, 3, 2]               \n",
            "  4                  -1  2    197632  ultralytics.nn.modules.block.C2f             [128, 128, 2, True]           \n",
            "  5                  -1  1    295424  ultralytics.nn.modules.conv.Conv             [128, 256, 3, 2]              \n",
            "  6                  -1  2    788480  ultralytics.nn.modules.block.C2f             [256, 256, 2, True]           \n",
            "  7                  -1  1   1180672  ultralytics.nn.modules.conv.Conv             [256, 512, 3, 2]              \n",
            "  8                  -1  1   1838080  ultralytics.nn.modules.block.C2f             [512, 512, 1, True]           \n",
            "  9                  -1  1    656896  ultralytics.nn.modules.block.SPPF            [512, 512, 5]                 \n",
            " 10                  -1  1         0  torch.nn.modules.upsampling.Upsample         [None, 2, 'nearest']          \n",
            " 11             [-1, 6]  1         0  ultralytics.nn.modules.conv.Concat           [1]                           \n",
            " 12                  -1  1    591360  ultralytics.nn.modules.block.C2f             [768, 256, 1]                 \n",
            " 13                  -1  1         0  torch.nn.modules.upsampling.Upsample         [None, 2, 'nearest']          \n",
            " 14             [-1, 4]  1         0  ultralytics.nn.modules.conv.Concat           [1]                           \n",
            " 15                  -1  1    148224  ultralytics.nn.modules.block.C2f             [384, 128, 1]                 \n",
            " 16                  -1  1    147712  ultralytics.nn.modules.conv.Conv             [128, 128, 3, 2]              \n",
            " 17            [-1, 12]  1         0  ultralytics.nn.modules.conv.Concat           [1]                           \n",
            " 18                  -1  1    493056  ultralytics.nn.modules.block.C2f             [384, 256, 1]                 \n",
            " 19                  -1  1    590336  ultralytics.nn.modules.conv.Conv             [256, 256, 3, 2]              \n",
            " 20             [-1, 9]  1         0  ultralytics.nn.modules.conv.Concat           [1]                           \n",
            " 21                  -1  1   1969152  ultralytics.nn.modules.block.C2f             [768, 512, 1]                 \n",
            " 22        [15, 18, 21]  1   2116435  ultralytics.nn.modules.head.Detect           [1, [128, 256, 512]]          \n",
            "Model summary: 129 layers, 11,135,987 parameters, 11,135,971 gradients, 28.6 GFLOPs\n",
            "\n",
            "Transferred 349/355 items from pretrained weights\n",
            "Freezing layer 'model.22.dfl.conv.weight'\n",
            "\u001b[34m\u001b[1mAMP: \u001b[0mrunning Automatic Mixed Precision (AMP) checks...\n",
            "\u001b[34m\u001b[1mAMP: \u001b[0mchecks passed \n",
            "\u001b[34m\u001b[1mtrain: \u001b[0mFast image access  (ping: 0.10.0 ms, read: 9.63.6 MB/s, size: 36.0 KB)\n"
          ]
        },
        {
          "name": "stderr",
          "output_type": "stream",
          "text": [
            "\u001b[34m\u001b[1mtrain: \u001b[0mScanning D:\\Ayaz\\projects\\New folder (2)\\Cone Detector Computer Vision Project\\pangjae2-2\\train\\labels... 2001 images, 2 backgrounds, 0 corrupt: 100%|██████████| 2001/2001 [00:02<00:00, 711.15it/s]\n"
          ]
        },
        {
          "name": "stdout",
          "output_type": "stream",
          "text": [
            "\u001b[34m\u001b[1mtrain: \u001b[0mNew cache created: D:\\Ayaz\\projects\\New folder (2)\\Cone Detector Computer Vision Project\\pangjae2-2\\train\\labels.cache\n",
            "WARNING Box and segment counts should be equal, but got len(segments) = 4764, len(boxes) = 8033. To resolve this only boxes will be used and all segments will be removed. To avoid this please supply either a detect or segment dataset, not a detect-segment mixed dataset.\n",
            "\u001b[34m\u001b[1mval: \u001b[0mFast image access  (ping: 0.10.1 ms, read: 7.92.5 MB/s, size: 36.7 KB)\n"
          ]
        },
        {
          "name": "stderr",
          "output_type": "stream",
          "text": [
            "\u001b[34m\u001b[1mval: \u001b[0mScanning D:\\Ayaz\\projects\\New folder (2)\\Cone Detector Computer Vision Project\\pangjae2-2\\valid\\labels... 571 images, 0 backgrounds, 0 corrupt: 100%|██████████| 571/571 [00:00<00:00, 714.97it/s]\n"
          ]
        },
        {
          "name": "stdout",
          "output_type": "stream",
          "text": [
            "\u001b[34m\u001b[1mval: \u001b[0mNew cache created: D:\\Ayaz\\projects\\New folder (2)\\Cone Detector Computer Vision Project\\pangjae2-2\\valid\\labels.cache\n",
            "WARNING Box and segment counts should be equal, but got len(segments) = 1334, len(boxes) = 2290. To resolve this only boxes will be used and all segments will be removed. To avoid this please supply either a detect or segment dataset, not a detect-segment mixed dataset.\n",
            "Plotting labels to runs\\detect\\train4\\labels.jpg... \n"
          ]
        },
        {
          "ename": "",
          "evalue": "",
          "output_type": "error",
          "traceback": [
            "\u001b[1;31mThe Kernel crashed while executing code in the current cell or a previous cell. \n",
            "\u001b[1;31mPlease review the code in the cell(s) to identify a possible cause of the failure. \n",
            "\u001b[1;31mClick <a href='https://aka.ms/vscodeJupyterKernelCrash'>here</a> for more info. \n",
            "\u001b[1;31mView Jupyter <a href='command:jupyter.viewOutput'>log</a> for further details."
          ]
        }
      ],
      "source": [
        "model.train(\n",
        "    data=r\"D:\\Ayaz\\projects\\New folder (2)\\Cone Detector Computer Vision Project\\pangjae2-2\\data.yaml\",  # Path to dataset configuration file\n",
        "    epochs=50,  # Number of training epochs\n",
        "    batch=16,   # Batch size\n",
        "    imgsz=640   # Image size\n",
        ")\n"
      ]
    },
    {
      "cell_type": "code",
      "execution_count": null,
      "metadata": {
        "id": "G9CM2NHFamcL"
      },
      "outputs": [],
      "source": []
    },
    {
      "cell_type": "code",
      "execution_count": null,
      "metadata": {
        "id": "4jgaotAVamqr"
      },
      "outputs": [],
      "source": []
    },
    {
      "cell_type": "code",
      "execution_count": null,
      "metadata": {
        "id": "KkqA_7AtamvL"
      },
      "outputs": [],
      "source": []
    }
  ],
  "metadata": {
    "accelerator": "GPU",
    "colab": {
      "gpuType": "T4",
      "provenance": []
    },
    "kernelspec": {
      "display_name": "GR",
      "language": "python",
      "name": "python3"
    },
    "language_info": {
      "codemirror_mode": {
        "name": "ipython",
        "version": 3
      },
      "file_extension": ".py",
      "mimetype": "text/x-python",
      "name": "python",
      "nbconvert_exporter": "python",
      "pygments_lexer": "ipython3",
      "version": "3.12.9"
    }
  },
  "nbformat": 4,
  "nbformat_minor": 0
}
